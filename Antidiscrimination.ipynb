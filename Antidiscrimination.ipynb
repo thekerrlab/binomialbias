{
 "cells": [
  {
   "cell_type": "code",
   "execution_count": 4,
   "id": "ea68a258",
   "metadata": {
    "tags": []
   },
   "outputs": [
    {
     "data": {
      "text/html": [
       "\n",
       "<style>\n",
       "div.apphead {\n",
       "    color: #000;\n",
       "    font-size: large;\n",
       "}\n",
       "\n",
       "div.about {    \n",
       "    background-color: #fee;\n",
       "    padding: 1em;\n",
       "    font-size: small;\n",
       "}\n",
       "</style>\n"
      ],
      "text/plain": [
       "<IPython.core.display.HTML object>"
      ]
     },
     "execution_count": 4,
     "metadata": {},
     "output_type": "execute_result"
    }
   ],
   "source": [
    "# Custom CSS\n",
    "from IPython.core.display import HTML\n",
    "css = '''\n",
    "<style>\n",
    "div.apphead {\n",
    "    color: #000;\n",
    "    font-size: large;\n",
    "}\n",
    "\n",
    "div.about {    \n",
    "    background-color: #fee;\n",
    "    padding: 1em;\n",
    "    font-size: small;\n",
    "}\n",
    "</style>\n",
    "'''\n",
    "HTML(css)"
   ]
  },
  {
   "cell_type": "markdown",
   "id": "391da835",
   "metadata": {
    "tags": []
   },
   "source": [
    "<div class=apphead>\n",
    "    <h1>Objective Assessment of University Discrimination</h1>\n",
    "    <hr>\n",
    "</div>\n",
    "\n",
    "<p>Prof. P. A. Robinson, School of Physics, University of Sydney.</p>\n",
    "\n",
    "<p>robinson@physics.usyd.edu.au</p>"
   ]
  },
  {
   "cell_type": "code",
   "execution_count": 2,
   "id": "f0f39770",
   "metadata": {},
   "outputs": [],
   "source": [
    "%matplotlib widget\n",
    "import ipywidgets as widgets\n",
    "import pylab as pl\n",
    "import numpy as np\n",
    "import sciris as sc\n",
    "import binomial_discrimination as bidisc\n",
    "\n",
    "pl.rc('figure', dpi=75)"
   ]
  },
  {
   "cell_type": "code",
   "execution_count": 10,
   "id": "cbb9837c",
   "metadata": {},
   "outputs": [
    {
     "data": {
      "application/vnd.jupyter.widget-view+json": {
       "model_id": "232ec24873db4c4b87444d22bb155034",
       "version_major": 2,
       "version_minor": 0
      },
      "text/plain": [
       "BiDisc(children=(VBox(children=(BoundedIntText(value=9, description='Total number of appointments:', style=Des…"
      ]
     },
     "metadata": {},
     "output_type": "display_data"
    }
   ],
   "source": [
    "def make_box_layout():\n",
    "     return widgets.Layout(\n",
    "        border='solid 1px #ddd',\n",
    "        margin='0px 10px 10px 0px',\n",
    "        padding='5px 5px 5px 5px'\n",
    "     )\n",
    " \n",
    "class BiDisc(widgets.HBox):\n",
    "     \n",
    "    def __init__(self):\n",
    "        super().__init__()\n",
    "        output = widgets.Output()\n",
    "\n",
    "        self.d = sc.objdict()\n",
    "        self.d.n = 9\n",
    "        self.d.ra = 3\n",
    "        self.d.rbar = 4\n",
    "        self.fig = None\n",
    "        self.ax = None\n",
    " \n",
    "        with output:\n",
    "            self.fig, _ = pl.subplots(num='Binomial Discrimination', figsize=(8, 6))\n",
    "        self.plot()\n",
    "         \n",
    "        self.fig.canvas.toolbar_position = 'right'\n",
    " \n",
    "        # define widgets\n",
    "        style = {'description_width':'initial'}\n",
    "        n_wid    = widgets.BoundedIntText(value=9, min=0, max=100, step=1, style=style, description='Total number of appointments:', disabled=False)\n",
    "        ra_wid   = widgets.BoundedIntText(value=3, min=0, max=100, step=1, style=style, description='Actual appointments of a group:', disabled=False)\n",
    "        rbar_wid = widgets.BoundedIntText(value=4, min=0, max=100, step=1, style=style, description='Expected number of appointments:', disabled=False)\n",
    "        button = widgets.Button(description='Plot')\n",
    "        controls = widgets.VBox([n_wid, ra_wid, rbar_wid, button])\n",
    "        controls.layout = make_box_layout()\n",
    "        out_box = widgets.Box([output])\n",
    "        output.layout = make_box_layout()\n",
    " \n",
    "        # observe stuff\n",
    "        n_wid.observe(self.n_obs, 'value')\n",
    "        ra_wid.observe(self.ra_obs, 'value')\n",
    "        rbar_wid.observe(self.rbar_obs, 'value')\n",
    "        button.observe(self.plot)\n",
    " \n",
    "        # add to children\n",
    "        self.children = [controls, output]\n",
    "        \n",
    "    def plot(self):\n",
    "        if self.fig:\n",
    "            self.fig.clf()\n",
    "        self.fig = bidisc.binomial_discrimination(fig=self.fig, n=self.d.n, ra=self.d.ra, rbar=self.d.ra, interactive=False)\n",
    "        return\n",
    "     \n",
    "    def n_obs(self, change):\n",
    "        \"\"\" Update the smoothing \"\"\"\n",
    "        self.d.n = change.new\n",
    "        self.plot()\n",
    "        return\n",
    "    \n",
    "    def ra_obs(self, change):\n",
    "        \"\"\" Update the smoothing \"\"\"\n",
    "        self.d.ra = change.new\n",
    "        self.plot()\n",
    "        return\n",
    " \n",
    "    def rbar_obs(self, change):\n",
    "        self.d.rbar = change.new\n",
    "        self.plot()\n",
    "        return\n",
    "         \n",
    "BiDisc()"
   ]
  },
  {
   "cell_type": "code",
   "execution_count": null,
   "id": "78a375df",
   "metadata": {},
   "outputs": [],
   "source": []
  }
 ],
 "metadata": {
  "kernelspec": {
   "display_name": "Python 3",
   "language": "python",
   "name": "python3"
  },
  "language_info": {
   "codemirror_mode": {
    "name": "ipython",
    "version": 3
   },
   "file_extension": ".py",
   "mimetype": "text/x-python",
   "name": "python",
   "nbconvert_exporter": "python",
   "pygments_lexer": "ipython3",
   "version": "3.8.8"
  }
 },
 "nbformat": 4,
 "nbformat_minor": 5
}
